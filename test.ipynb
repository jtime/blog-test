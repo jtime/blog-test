{
 "cells": [
  {
   "cell_type": "code",
   "execution_count": 1,
   "metadata": {},
   "outputs": [
    {
     "name": "stdout",
     "output_type": "stream",
     "text": [
      "在函數執行之前做一些事情\n",
      "Hello, world!\n",
      "在函數執行之後做一些事情\n"
     ]
    }
   ],
   "source": [
    "def decorator_function(original_function):\n",
    "    def wrapper_function(*args, **kwargs):\n",
    "        # 在執行原始函數之前執行額外的代碼\n",
    "        print(\"在函數執行之前做一些事情\")\n",
    "\n",
    "        # 執行原始函數\n",
    "        result = original_function(*args, **kwargs)\n",
    "\n",
    "        # 在執行原始函數之後執行額外的代碼\n",
    "        print(\"在函數執行之後做一些事情\")\n",
    "\n",
    "        # 返回原始函數的結果\n",
    "        return result\n",
    "\n",
    "    return wrapper_function\n",
    "\n",
    "@decorator_function\n",
    "def hello():\n",
    "    print(\"Hello, world!\")\n",
    "\n",
    "# 使用修飾器包裝的函數\n",
    "hello()"
   ]
  }
 ],
 "metadata": {
  "kernelspec": {
   "display_name": "dm2148",
   "language": "python",
   "name": "dm2148"
  },
  "language_info": {
   "codemirror_mode": {
    "name": "ipython",
    "version": 3
   },
   "file_extension": ".py",
   "mimetype": "text/x-python",
   "name": "python",
   "nbconvert_exporter": "python",
   "pygments_lexer": "ipython3",
   "version": "3.7.11"
  },
  "orig_nbformat": 4
 },
 "nbformat": 4,
 "nbformat_minor": 2
}
